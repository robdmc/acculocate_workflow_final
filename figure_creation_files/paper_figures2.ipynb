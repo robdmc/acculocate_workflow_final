{
 "cells": [
  {
   "cell_type": "code",
   "execution_count": 1,
   "metadata": {},
   "outputs": [],
   "source": [
    "%load_ext autoreload"
   ]
  },
  {
   "cell_type": "code",
   "execution_count": null,
   "metadata": {},
   "outputs": [],
   "source": [
    "%autoreload 2\n",
    "%matplotlib inline\n",
    "import os\n",
    "from collections import namedtuple\n",
    "from scipy.stats import gamma, bernoulli\n",
    "import mmap\n",
    "import pandas as pd\n",
    "from itertools import chain\n",
    "import numpy as np\n",
    "from scipy.stats import scoreatpercentile\n",
    "import re\n",
    "# from laslib import Las\n",
    "# from googtool import Google\n",
    "import holoviews as hv\n",
    "import easier as ezr\n",
    "hv.extension('bokeh')\n",
    "\n",
    "\n",
    "import pylab as pl\n",
    "\n",
    "\n",
    "import warnings\n",
    "warnings.filterwarnings(\"ignore\")"
   ]
  },
  {
   "cell_type": "code",
   "execution_count": null,
   "metadata": {},
   "outputs": [],
   "source": [
    "%opts Curve Scatter [width=700, height=400]\n",
    "%opts Overlay [legend_position='top', show_grid=True] "
   ]
  },
  {
   "cell_type": "code",
   "execution_count": null,
   "metadata": {},
   "outputs": [],
   "source": [
    "x = np.linspace(0, 4 * np.pi, 1000)\n",
    "xa = 180 * x / np.pi\n",
    "yc = np.sin(x)\n",
    "yb = .25 * np.sin(x - 3 * np.pi / 4)\n",
    "ym = yc + yb\n",
    "\n",
    "ax = ezr.figure(style='seaborn-talk', grid=True)\n",
    "ax.plot(xa, yc, label='Cable Signal')\n",
    "ax.plot(xa, yb, label='Background Signal')\n",
    "ax.plot(xa, ym, label='Measured Signal')\n",
    "ax.legend(loc='best')\n",
    "ax.set_xlim(0, 720)\n",
    "ax.set_ylim(-1.5, 1.8)\n",
    "pl.xlabel('Bearing')\n",
    "pl.ylabel('Signal Strength')\n",
    "\n",
    "file_name = 'sigs_vs_bearing.pdf'\n",
    "pl.figure(ax.figure.number)\n",
    "pl.savefig(file_name)\n",
    "\n",
    "\n"
   ]
  },
  {
   "cell_type": "code",
   "execution_count": 1,
   "metadata": {},
   "outputs": [
    {
     "name": "stdout",
     "output_type": "stream",
     "text": [
      "/Users/rob/rob/repos/braket/acculocate_workflow_final/figure_creation_files\r\n"
     ]
    }
   ],
   "source": [
    "!pwd"
   ]
  },
  {
   "cell_type": "code",
   "execution_count": 1,
   "metadata": {},
   "outputs": [],
   "source": [
    "\n",
    "from scipy.stats import gamma, bernoulli\n",
    "import numpy as np\n",
    "\n",
    "\n",
    "def bplus(s, m):\n",
    "    return np.abs(m + s)\n",
    "\n",
    "\n",
    "def bminus(s, m):\n",
    "    return np.abs(m - s)\n",
    "\n",
    "\n",
    "def sample_amplitude(mu: float, sigma: float, N: int):\n",
    "    \"\"\"\n",
    "    Draw samples from a model of either the signal or the\n",
    "    background amplitude distribution.\n",
    "    Args:\n",
    "        mu: the mean value of the amplitude model\n",
    "        sigma: the standard deviation of the amplitude model\n",
    "        N: the number of random points to generate\n",
    "    \"\"\"\n",
    "    # Compute the gamma parameters that will have the desired\n",
    "    # mean and standard deviation\n",
    "    a = (mu / sigma) ** 2\n",
    "    scale = sigma ** 2 / mu\n",
    "\n",
    "    # Generate the random variables.\n",
    "    gam = gamma(a, scale=scale)\n",
    "    x = gam.rvs(size=N)\n",
    "    return x\n",
    "    \n",
    "def sample_angle(measured, sig_mu, sig_std, back_mu, back_std, N, max_iter=100):\n",
    "    x_list = []\n",
    "    n_samples = N\n",
    "    n_iter = 0\n",
    "    while n_samples > 0 and n_iter < max_iter:\n",
    "        signal = sample_amplitude(sig_mu, sig_std, n_samples)\n",
    "        background = sample_amplitude(back_mu, back_std, n_samples)\n",
    "        \n",
    "        \n",
    "        numerator = measured ** 2 + signal ** 2 - background ** 2\n",
    "        denominator = 2 * measured * signal\n",
    "        \n",
    "        ratio = numerator / denominator\n",
    "        ratio = ratio[ratio < 1]\n",
    "        theta_abs = np.arccos(ratio)\n",
    "        nn = len(theta_abs)\n",
    "        signs = 2 * (bernoulli(.5).rvs(nn) - .5)\n",
    "        theta = theta_abs * signs\n",
    "        theta = theta[~np.isnan(theta)]\n",
    "        x_list.extend(theta.tolist())\n",
    "        n_samples = int(2 * (N - len(x_list)))\n",
    "        n_iter += 1\n",
    "    if n_iter >= max_iter:\n",
    "        raise ValueError(\n",
    "            'MaxIter encounterd.  '\n",
    "            'You probably set a model that is incompatible with measurement')\n",
    "    return 180 * np.array(x_list[:N]) / np.pi\n",
    "\n",
    "\n",
    "# Specify the parameters\n",
    "measured = 2000\n",
    "sig_mu=1900\n",
    "back_mu=900 \n",
    "sig_std = 200\n",
    "back_std = 200\n",
    "N = 100000\n",
    "\n",
    "# Generate the samples\n",
    "samples = sample_angle(measured, sig_mu, sig_std, back_mu, back_std, N, max_iter=100)\n"
   ]
  },
  {
   "cell_type": "code",
   "execution_count": 2,
   "metadata": {},
   "outputs": [
    {
     "data": {
      "text/plain": [
       "array([-28.43017239,  23.5568365 ,  30.07050984, ..., -15.87591666,\n",
       "       -25.58437811, -31.36360009])"
      ]
     },
     "execution_count": 2,
     "metadata": {},
     "output_type": "execute_result"
    }
   ],
   "source": [
    "samples"
   ]
  },
  {
   "cell_type": "code",
   "execution_count": null,
   "metadata": {},
   "outputs": [],
   "source": [
    "ax = ezr.figure(style='seaborn-whitegrid', grid=True)\n",
    "ax.hist(x, bins=50, edgecolor='black', linewidth=1.2)\n",
    "pl.xlabel('Bearing Correction Angle (deg)')\n",
    "pl.ylabel('Counts')\n",
    "ax.set_yticklabels([])\n",
    "\n",
    "file_name = 'correction_hist.pdf'\n",
    "pl.figure(ax.figure.number)\n",
    "pl.savefig(file_name)\n",
    "_;"
   ]
  },
  {
   "cell_type": "code",
   "execution_count": null,
   "metadata": {},
   "outputs": [],
   "source": []
  },
  {
   "cell_type": "code",
   "execution_count": null,
   "metadata": {},
   "outputs": [],
   "source": [
    "%opts Curve [logx=False, logy=False, show_grid=True, tools=['hover']]\n",
    "thetadeg = np.linspace(8, 89, 3000)\n",
    "theta = thetadeg * np.pi / 180\n",
    "sbr = 1. / np.sin(theta)\n",
    "hv.Curve(\n",
    "    (thetadeg, sbr),\n",
    "    hv.Dimension('Max Tolerable Bearing Error (deg)', range=(0, 25)),\n",
    "    hv.Dimension('Min Allowable Signal-to-Background', range=(.1, 60))\n",
    ")\n",
    "# hv.Curve(\n",
    "#     (sbr, thetadeg),\n",
    "#     hv.Dimension('Min Allowable Signal-to-Background'),\n",
    "#     hv.Dimension('Max Tolerable Bearing Error (deg)'),\n",
    "# )"
   ]
  },
  {
   "cell_type": "code",
   "execution_count": null,
   "metadata": {},
   "outputs": [],
   "source": []
  },
  {
   "cell_type": "code",
   "execution_count": null,
   "metadata": {},
   "outputs": [],
   "source": []
  },
  {
   "cell_type": "code",
   "execution_count": null,
   "metadata": {},
   "outputs": [],
   "source": []
  },
  {
   "cell_type": "code",
   "execution_count": null,
   "metadata": {},
   "outputs": [],
   "source": []
  }
 ],
 "metadata": {
  "kernelspec": {
   "display_name": "Python 3",
   "language": "python",
   "name": "python3"
  },
  "language_info": {
   "codemirror_mode": {
    "name": "ipython",
    "version": 3
   },
   "file_extension": ".py",
   "mimetype": "text/x-python",
   "name": "python",
   "nbconvert_exporter": "python",
   "pygments_lexer": "ipython3",
   "version": "3.6.7"
  }
 },
 "nbformat": 4,
 "nbformat_minor": 2
}
